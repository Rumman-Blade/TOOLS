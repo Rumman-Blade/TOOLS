{
  "metadata": {
    "language_info": {
      "codemirror_mode": {
        "name": "python",
        "version": 3
      },
      "file_extension": ".py",
      "mimetype": "text/x-python",
      "name": "python",
      "nbconvert_exporter": "python",
      "pygments_lexer": "ipython3",
      "version": "3.8"
    },
    "kernelspec": {
      "name": "python",
      "display_name": "Python (Pyodide)",
      "language": "python"
    }
  },
  "nbformat_minor": 4,
  "nbformat": 4,
  "cells": [
    {
      "cell_type": "code",
      "source": "# My Data Science Notebook\n\n## Introduction\nWelcome to my data science notebook! In this notebook, we will explore various data science concepts, languages, libraries, and tools We will also demonstrate some examples of arithmetic expressions and perform calculations using code Let's dive in!\n\n## Data Science Languages\n- Python\n- R\n- SQL\n- Julia\n- Scala\n- MATLAB\n\n## Data Science Libraries\n- NumPy\n- Pandas\n- Scikit-learn\n- TensorFlow\n- PyTorch\n- Matplotlib\n- Seaborn\n- ggplot2\n\n## Data Science Tools\n\n| Category       | Tools           |\n| -------------- | --------------- |\n| Data Wrangling | pandas, dplyr   |\n| Visualization  | Matplotlib, ggplot2, Seaborn |\n| Machine Learning | Scikit-learn, TensorFlow, PyTorch |\n| Data Mining | RapidMiner, KNIME, Weka |\n\n## Arithmetic Expression Examples\nIn this section, we will explore some basic arithmetic operations using numbers and variables.\n\n```python\n# Multiply and add numbers\na = 5\nb = 3\nmultiply_result = a * b\nadd_result = a + b\nmultiply_result, add_result\n\n",
      "metadata": {
        "trusted": true
      },
      "execution_count": 3,
      "outputs": [
        {
          "ename": "<class 'SyntaxError'>",
          "evalue": "unterminated string literal (detected at line 4) (<ipython-input-3-6f3efe6000cf>, line 4)",
          "traceback": [
            "\u001b[0;36m  Cell \u001b[0;32mIn[3], line 4\u001b[0;36m\u001b[0m\n\u001b[0;31m    Welcome to my data science notebook! In this notebook, we will explore various data science concepts, languages, libraries, and tools We will also demonstrate some examples of arithmetic expressions and perform calculations using code Let's dive in!\u001b[0m\n\u001b[0m                                                                                                                                                                                                                                                  ^\u001b[0m\n\u001b[0;31mSyntaxError\u001b[0m\u001b[0;31m:\u001b[0m unterminated string literal (detected at line 4)\n"
          ],
          "output_type": "error"
        }
      ]
    },
    {
      "cell_type": "code",
      "source": "",
      "metadata": {},
      "execution_count": null,
      "outputs": []
    },
    {
      "cell_type": "code",
      "source": "",
      "metadata": {},
      "execution_count": null,
      "outputs": []
    }
  ]
}
